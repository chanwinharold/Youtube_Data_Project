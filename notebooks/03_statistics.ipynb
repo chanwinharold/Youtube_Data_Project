{
 "cells": [
  {
   "cell_type": "code",
   "id": "initial_id",
   "metadata": {
    "collapsed": true,
    "ExecuteTime": {
     "end_time": "2025-02-23T01:03:08.857880Z",
     "start_time": "2025-02-23T01:03:08.843245Z"
    }
   },
   "source": [
    "import numpy as np\n",
    "import pandas as pd\n",
    "import pickle\n",
    "data = pd.read_csv(\"../data/data_cleaned.csv\")"
   ],
   "outputs": [],
   "execution_count": 14
  },
  {
   "metadata": {},
   "cell_type": "markdown",
   "source": "<h1>Analyse Statistique et Manipulation</h1>",
   "id": "65d97f9742a87c8f"
  },
  {
   "metadata": {},
   "cell_type": "markdown",
   "source": "<strong>Moyenne du nombre de vues des vidéos</strong>",
   "id": "a9aa335a7771565b"
  },
  {
   "metadata": {
    "ExecuteTime": {
     "end_time": "2025-02-23T01:03:08.906817Z",
     "start_time": "2025-02-23T01:03:08.899903Z"
    }
   },
   "cell_type": "code",
   "source": [
    "moyenne = data['video_views'].mean()\n",
    "print(\"La moyenne est de\", int(moyenne), \"vues\")"
   ],
   "id": "370f7612ed1dcaa5",
   "outputs": [
    {
     "name": "stdout",
     "output_type": "stream",
     "text": [
      "La moyenne est de 24600037 vues\n"
     ]
    }
   ],
   "execution_count": 15
  },
  {
   "metadata": {},
   "cell_type": "markdown",
   "source": "<strong>Médian du nombre de vues des vidéos</strong>",
   "id": "69ca7b332a29fc52"
  },
  {
   "metadata": {
    "ExecuteTime": {
     "end_time": "2025-02-23T01:03:08.972550Z",
     "start_time": "2025-02-23T01:03:08.962256Z"
    }
   },
   "cell_type": "code",
   "source": [
    "median = data['video_views'].median()\n",
    "print(\"La médiane est de\", int(median), \"vues\")"
   ],
   "id": "8ffaf60b79cea97d",
   "outputs": [
    {
     "name": "stdout",
     "output_type": "stream",
     "text": [
      "La médiane est de 2345415 vues\n"
     ]
    }
   ],
   "execution_count": 16
  },
  {
   "metadata": {},
   "cell_type": "markdown",
   "source": "<strong>L'écart-type du nombre de vues des vidéos</strong>",
   "id": "6ad9bf31d0a8bbb4"
  },
  {
   "metadata": {
    "ExecuteTime": {
     "end_time": "2025-02-23T01:03:09.062544Z",
     "start_time": "2025-02-23T01:03:09.055102Z"
    }
   },
   "cell_type": "code",
   "source": [
    "ecart_type = data['video_views'].std()\n",
    "print(\"L'écart-type est de\", round(ecart_type, 2))"
   ],
   "id": "4879f66af570b24",
   "outputs": [
    {
     "name": "stdout",
     "output_type": "stream",
     "text": [
      "L'écart-type est de 251632230.41\n"
     ]
    }
   ],
   "execution_count": 17
  },
  {
   "metadata": {},
   "cell_type": "markdown",
   "source": "<strong>Les 10 vidéos les plus visionnées</strong>",
   "id": "c8cdc13a76754e9d"
  },
  {
   "metadata": {
    "ExecuteTime": {
     "end_time": "2025-02-23T01:03:09.170425Z",
     "start_time": "2025-02-23T01:03:09.135604Z"
    }
   },
   "cell_type": "code",
   "source": [
    "data_sorted_by_views = data.sort_values('video_views', ascending=False)\n",
    "data_sorted_by_views = data_sorted_by_views.reset_index(drop=True)\n",
    "data_sorted_by_views.head(10)"
   ],
   "id": "53ef5b0ae727fb13",
   "outputs": [
    {
     "data": {
      "text/plain": [
       "   rank  \\\n",
       "0     5   \n",
       "1    61   \n",
       "2   382   \n",
       "3   137   \n",
       "4    32   \n",
       "5   143   \n",
       "6   421   \n",
       "7   132   \n",
       "8   193   \n",
       "9   279   \n",
       "\n",
       "                                                                                video  \\\n",
       "0  Wiz Khalifa - See You Again ft. Charlie Puth [Official Video] Furious 7 Soundtrack   \n",
       "1                                Pedro Capó, Farruko - Calma (Remix - Official Video)   \n",
       "2                            Jhay Cortez, J. Balvin, Bad Bunny - No Me Conoce (Remix)   \n",
       "3                      ROSALÍA, J Balvin - Con Altura (Official Video) ft. El Guincho   \n",
       "4                                         6ix9ine - FEFE ft. Nicki Minaj, Murda Beatz   \n",
       "5           Rocket Blast Off #messingaround #flying #fun #brothers #playing #hangtime   \n",
       "6                                    The emergency rescue dog is so awesome...cutepet   \n",
       "7                        Drawing the pillar of life🥶🗿#trollface #trollfaceedit #troll   \n",
       "8   A disabled duckling helps his cat friend 🐥 #DuckRescue #CuteAnimals #AnimalRescue   \n",
       "9                                                            0 Sharpness knife test?💀   \n",
       "\n",
       "   video_views     likes  dislikes        category  published  like_ratio  \n",
       "0   6547981039  44428537         0           Music       2015        0.68  \n",
       "1   2964195014  13755637         0           Music       2018        0.46  \n",
       "2   2356628623   6622023         0           Music       2019        0.28  \n",
       "3   2209874850   9768545         0           Music       2019        0.44  \n",
       "4   1090948051   9015394         0  People & Blogs       2018        0.83  \n",
       "5    156690686   1868300         0          Sports       2024        1.19  \n",
       "6    144116053   1759120         0  People & Blogs       2024        1.22  \n",
       "7    133062446   3173002         0  People & Blogs       2025        2.38  \n",
       "8    114441704   3749872         0   Entertainment       2024        3.28  \n",
       "9    113886130   4702361         0  People & Blogs       2024        4.13  "
      ],
      "text/html": [
       "<div>\n",
       "<style scoped>\n",
       "    .dataframe tbody tr th:only-of-type {\n",
       "        vertical-align: middle;\n",
       "    }\n",
       "\n",
       "    .dataframe tbody tr th {\n",
       "        vertical-align: top;\n",
       "    }\n",
       "\n",
       "    .dataframe thead th {\n",
       "        text-align: right;\n",
       "    }\n",
       "</style>\n",
       "<table border=\"1\" class=\"dataframe\">\n",
       "  <thead>\n",
       "    <tr style=\"text-align: right;\">\n",
       "      <th></th>\n",
       "      <th>rank</th>\n",
       "      <th>video</th>\n",
       "      <th>video_views</th>\n",
       "      <th>likes</th>\n",
       "      <th>dislikes</th>\n",
       "      <th>category</th>\n",
       "      <th>published</th>\n",
       "      <th>like_ratio</th>\n",
       "    </tr>\n",
       "  </thead>\n",
       "  <tbody>\n",
       "    <tr>\n",
       "      <th>0</th>\n",
       "      <td>5</td>\n",
       "      <td>Wiz Khalifa - See You Again ft. Charlie Puth [Official Video] Furious 7 Soundtrack</td>\n",
       "      <td>6547981039</td>\n",
       "      <td>44428537</td>\n",
       "      <td>0</td>\n",
       "      <td>Music</td>\n",
       "      <td>2015</td>\n",
       "      <td>0.68</td>\n",
       "    </tr>\n",
       "    <tr>\n",
       "      <th>1</th>\n",
       "      <td>61</td>\n",
       "      <td>Pedro Capó, Farruko - Calma (Remix - Official Video)</td>\n",
       "      <td>2964195014</td>\n",
       "      <td>13755637</td>\n",
       "      <td>0</td>\n",
       "      <td>Music</td>\n",
       "      <td>2018</td>\n",
       "      <td>0.46</td>\n",
       "    </tr>\n",
       "    <tr>\n",
       "      <th>2</th>\n",
       "      <td>382</td>\n",
       "      <td>Jhay Cortez, J. Balvin, Bad Bunny - No Me Conoce (Remix)</td>\n",
       "      <td>2356628623</td>\n",
       "      <td>6622023</td>\n",
       "      <td>0</td>\n",
       "      <td>Music</td>\n",
       "      <td>2019</td>\n",
       "      <td>0.28</td>\n",
       "    </tr>\n",
       "    <tr>\n",
       "      <th>3</th>\n",
       "      <td>137</td>\n",
       "      <td>ROSALÍA, J Balvin - Con Altura (Official Video) ft. El Guincho</td>\n",
       "      <td>2209874850</td>\n",
       "      <td>9768545</td>\n",
       "      <td>0</td>\n",
       "      <td>Music</td>\n",
       "      <td>2019</td>\n",
       "      <td>0.44</td>\n",
       "    </tr>\n",
       "    <tr>\n",
       "      <th>4</th>\n",
       "      <td>32</td>\n",
       "      <td>6ix9ine - FEFE ft. Nicki Minaj, Murda Beatz</td>\n",
       "      <td>1090948051</td>\n",
       "      <td>9015394</td>\n",
       "      <td>0</td>\n",
       "      <td>People &amp; Blogs</td>\n",
       "      <td>2018</td>\n",
       "      <td>0.83</td>\n",
       "    </tr>\n",
       "    <tr>\n",
       "      <th>5</th>\n",
       "      <td>143</td>\n",
       "      <td>Rocket Blast Off #messingaround #flying #fun #brothers #playing #hangtime</td>\n",
       "      <td>156690686</td>\n",
       "      <td>1868300</td>\n",
       "      <td>0</td>\n",
       "      <td>Sports</td>\n",
       "      <td>2024</td>\n",
       "      <td>1.19</td>\n",
       "    </tr>\n",
       "    <tr>\n",
       "      <th>6</th>\n",
       "      <td>421</td>\n",
       "      <td>The emergency rescue dog is so awesome...cutepet</td>\n",
       "      <td>144116053</td>\n",
       "      <td>1759120</td>\n",
       "      <td>0</td>\n",
       "      <td>People &amp; Blogs</td>\n",
       "      <td>2024</td>\n",
       "      <td>1.22</td>\n",
       "    </tr>\n",
       "    <tr>\n",
       "      <th>7</th>\n",
       "      <td>132</td>\n",
       "      <td>Drawing the pillar of life🥶🗿#trollface #trollfaceedit #troll</td>\n",
       "      <td>133062446</td>\n",
       "      <td>3173002</td>\n",
       "      <td>0</td>\n",
       "      <td>People &amp; Blogs</td>\n",
       "      <td>2025</td>\n",
       "      <td>2.38</td>\n",
       "    </tr>\n",
       "    <tr>\n",
       "      <th>8</th>\n",
       "      <td>193</td>\n",
       "      <td>A disabled duckling helps his cat friend 🐥 #DuckRescue #CuteAnimals #AnimalRescue</td>\n",
       "      <td>114441704</td>\n",
       "      <td>3749872</td>\n",
       "      <td>0</td>\n",
       "      <td>Entertainment</td>\n",
       "      <td>2024</td>\n",
       "      <td>3.28</td>\n",
       "    </tr>\n",
       "    <tr>\n",
       "      <th>9</th>\n",
       "      <td>279</td>\n",
       "      <td>0 Sharpness knife test?💀</td>\n",
       "      <td>113886130</td>\n",
       "      <td>4702361</td>\n",
       "      <td>0</td>\n",
       "      <td>People &amp; Blogs</td>\n",
       "      <td>2024</td>\n",
       "      <td>4.13</td>\n",
       "    </tr>\n",
       "  </tbody>\n",
       "</table>\n",
       "</div>"
      ]
     },
     "execution_count": 18,
     "metadata": {},
     "output_type": "execute_result"
    }
   ],
   "execution_count": 18
  },
  {
   "metadata": {},
   "cell_type": "markdown",
   "source": "<strong>Les 10 vidéos les plus aimées</strong>",
   "id": "4e466bddee62eed"
  },
  {
   "metadata": {
    "ExecuteTime": {
     "end_time": "2025-02-23T01:03:09.400725Z",
     "start_time": "2025-02-23T01:03:09.375039Z"
    }
   },
   "cell_type": "code",
   "source": [
    "data_sorted_by_likes = data.sort_values('likes', ascending=False)\n",
    "data_sorted_by_likes = data_sorted_by_likes.reset_index(drop=True)\n",
    "data_sorted_by_likes.head(10)"
   ],
   "id": "30906100220ee3a0",
   "outputs": [
    {
     "data": {
      "text/plain": [
       "   rank  \\\n",
       "0     5   \n",
       "1    61   \n",
       "2   137   \n",
       "3    32   \n",
       "4   382   \n",
       "5   279   \n",
       "6    26   \n",
       "7   193   \n",
       "8     1   \n",
       "9   364   \n",
       "\n",
       "                                                                                video  \\\n",
       "0  Wiz Khalifa - See You Again ft. Charlie Puth [Official Video] Furious 7 Soundtrack   \n",
       "1                                Pedro Capó, Farruko - Calma (Remix - Official Video)   \n",
       "2                      ROSALÍA, J Balvin - Con Altura (Official Video) ft. El Guincho   \n",
       "3                                         6ix9ine - FEFE ft. Nicki Minaj, Murda Beatz   \n",
       "4                            Jhay Cortez, J. Balvin, Bad Bunny - No Me Conoce (Remix)   \n",
       "5                                                            0 Sharpness knife test?💀   \n",
       "6                                   Olivia Rodrigo - drivers license (Official Video)   \n",
       "7   A disabled duckling helps his cat friend 🐥 #DuckRescue #CuteAnimals #AnimalRescue   \n",
       "8                      Lil Nas X - Old Town Road (Official Movie) ft. Billy Ray Cyrus   \n",
       "9                                                             Could you do it faster?   \n",
       "\n",
       "   video_views     likes  dislikes        category  published  like_ratio  \n",
       "0   6547981039  44428537         0           Music       2015        0.68  \n",
       "1   2964195014  13755637         0           Music       2018        0.46  \n",
       "2   2209874850   9768545         0           Music       2019        0.44  \n",
       "3   1090948051   9015394         0  People & Blogs       2018        0.83  \n",
       "4   2356628623   6622023         0           Music       2019        0.28  \n",
       "5    113886130   4702361         0  People & Blogs       2024        4.13  \n",
       "6     68224979   3810456     48539           Music       2021        5.59  \n",
       "7    114441704   3749872         0   Entertainment       2024        3.28  \n",
       "8     54071677   3497955     78799           Music       2019        6.47  \n",
       "9    112237591   3470844         0          Sports       2024        3.09  "
      ],
      "text/html": [
       "<div>\n",
       "<style scoped>\n",
       "    .dataframe tbody tr th:only-of-type {\n",
       "        vertical-align: middle;\n",
       "    }\n",
       "\n",
       "    .dataframe tbody tr th {\n",
       "        vertical-align: top;\n",
       "    }\n",
       "\n",
       "    .dataframe thead th {\n",
       "        text-align: right;\n",
       "    }\n",
       "</style>\n",
       "<table border=\"1\" class=\"dataframe\">\n",
       "  <thead>\n",
       "    <tr style=\"text-align: right;\">\n",
       "      <th></th>\n",
       "      <th>rank</th>\n",
       "      <th>video</th>\n",
       "      <th>video_views</th>\n",
       "      <th>likes</th>\n",
       "      <th>dislikes</th>\n",
       "      <th>category</th>\n",
       "      <th>published</th>\n",
       "      <th>like_ratio</th>\n",
       "    </tr>\n",
       "  </thead>\n",
       "  <tbody>\n",
       "    <tr>\n",
       "      <th>0</th>\n",
       "      <td>5</td>\n",
       "      <td>Wiz Khalifa - See You Again ft. Charlie Puth [Official Video] Furious 7 Soundtrack</td>\n",
       "      <td>6547981039</td>\n",
       "      <td>44428537</td>\n",
       "      <td>0</td>\n",
       "      <td>Music</td>\n",
       "      <td>2015</td>\n",
       "      <td>0.68</td>\n",
       "    </tr>\n",
       "    <tr>\n",
       "      <th>1</th>\n",
       "      <td>61</td>\n",
       "      <td>Pedro Capó, Farruko - Calma (Remix - Official Video)</td>\n",
       "      <td>2964195014</td>\n",
       "      <td>13755637</td>\n",
       "      <td>0</td>\n",
       "      <td>Music</td>\n",
       "      <td>2018</td>\n",
       "      <td>0.46</td>\n",
       "    </tr>\n",
       "    <tr>\n",
       "      <th>2</th>\n",
       "      <td>137</td>\n",
       "      <td>ROSALÍA, J Balvin - Con Altura (Official Video) ft. El Guincho</td>\n",
       "      <td>2209874850</td>\n",
       "      <td>9768545</td>\n",
       "      <td>0</td>\n",
       "      <td>Music</td>\n",
       "      <td>2019</td>\n",
       "      <td>0.44</td>\n",
       "    </tr>\n",
       "    <tr>\n",
       "      <th>3</th>\n",
       "      <td>32</td>\n",
       "      <td>6ix9ine - FEFE ft. Nicki Minaj, Murda Beatz</td>\n",
       "      <td>1090948051</td>\n",
       "      <td>9015394</td>\n",
       "      <td>0</td>\n",
       "      <td>People &amp; Blogs</td>\n",
       "      <td>2018</td>\n",
       "      <td>0.83</td>\n",
       "    </tr>\n",
       "    <tr>\n",
       "      <th>4</th>\n",
       "      <td>382</td>\n",
       "      <td>Jhay Cortez, J. Balvin, Bad Bunny - No Me Conoce (Remix)</td>\n",
       "      <td>2356628623</td>\n",
       "      <td>6622023</td>\n",
       "      <td>0</td>\n",
       "      <td>Music</td>\n",
       "      <td>2019</td>\n",
       "      <td>0.28</td>\n",
       "    </tr>\n",
       "    <tr>\n",
       "      <th>5</th>\n",
       "      <td>279</td>\n",
       "      <td>0 Sharpness knife test?💀</td>\n",
       "      <td>113886130</td>\n",
       "      <td>4702361</td>\n",
       "      <td>0</td>\n",
       "      <td>People &amp; Blogs</td>\n",
       "      <td>2024</td>\n",
       "      <td>4.13</td>\n",
       "    </tr>\n",
       "    <tr>\n",
       "      <th>6</th>\n",
       "      <td>26</td>\n",
       "      <td>Olivia Rodrigo - drivers license (Official Video)</td>\n",
       "      <td>68224979</td>\n",
       "      <td>3810456</td>\n",
       "      <td>48539</td>\n",
       "      <td>Music</td>\n",
       "      <td>2021</td>\n",
       "      <td>5.59</td>\n",
       "    </tr>\n",
       "    <tr>\n",
       "      <th>7</th>\n",
       "      <td>193</td>\n",
       "      <td>A disabled duckling helps his cat friend 🐥 #DuckRescue #CuteAnimals #AnimalRescue</td>\n",
       "      <td>114441704</td>\n",
       "      <td>3749872</td>\n",
       "      <td>0</td>\n",
       "      <td>Entertainment</td>\n",
       "      <td>2024</td>\n",
       "      <td>3.28</td>\n",
       "    </tr>\n",
       "    <tr>\n",
       "      <th>8</th>\n",
       "      <td>1</td>\n",
       "      <td>Lil Nas X - Old Town Road (Official Movie) ft. Billy Ray Cyrus</td>\n",
       "      <td>54071677</td>\n",
       "      <td>3497955</td>\n",
       "      <td>78799</td>\n",
       "      <td>Music</td>\n",
       "      <td>2019</td>\n",
       "      <td>6.47</td>\n",
       "    </tr>\n",
       "    <tr>\n",
       "      <th>9</th>\n",
       "      <td>364</td>\n",
       "      <td>Could you do it faster?</td>\n",
       "      <td>112237591</td>\n",
       "      <td>3470844</td>\n",
       "      <td>0</td>\n",
       "      <td>Sports</td>\n",
       "      <td>2024</td>\n",
       "      <td>3.09</td>\n",
       "    </tr>\n",
       "  </tbody>\n",
       "</table>\n",
       "</div>"
      ]
     },
     "execution_count": 19,
     "metadata": {},
     "output_type": "execute_result"
    }
   ],
   "execution_count": 19
  },
  {
   "metadata": {},
   "cell_type": "markdown",
   "source": "<strong>Le classement des catégories en fonction du nombre total de vues</strong>",
   "id": "a9a6a4152cbe10cf"
  },
  {
   "metadata": {
    "ExecuteTime": {
     "end_time": "2025-02-23T01:03:09.685616Z",
     "start_time": "2025-02-23T01:03:09.662288Z"
    }
   },
   "cell_type": "code",
   "source": [
    "views_by_category = data.groupby('category')['video_views'].sum()\n",
    "views_by_category = views_by_category.reset_index(drop=False)\n",
    "views_by_category_sorted = views_by_category.sort_values('video_views', ascending=False)\n",
    "views_by_category_sorted = views_by_category_sorted.reset_index(drop=True)\n",
    "views_by_category_sorted.head(10)"
   ],
   "id": "89de0da16637758c",
   "outputs": [
    {
     "data": {
      "text/plain": [
       "           category  video_views\n",
       "0             Music  16012853272\n",
       "1    People & Blogs   4813948048\n",
       "2     Entertainment   1202425848\n",
       "3            Sports    551996905\n",
       "4  Film & Animation    379368313\n",
       "5            Comedy    350001612\n",
       "6  Autos & Vehicles    237126461\n",
       "7            Gaming    200871851\n",
       "8    Pets & Animals    180853064\n",
       "9     Howto & Style    180677174"
      ],
      "text/html": [
       "<div>\n",
       "<style scoped>\n",
       "    .dataframe tbody tr th:only-of-type {\n",
       "        vertical-align: middle;\n",
       "    }\n",
       "\n",
       "    .dataframe tbody tr th {\n",
       "        vertical-align: top;\n",
       "    }\n",
       "\n",
       "    .dataframe thead th {\n",
       "        text-align: right;\n",
       "    }\n",
       "</style>\n",
       "<table border=\"1\" class=\"dataframe\">\n",
       "  <thead>\n",
       "    <tr style=\"text-align: right;\">\n",
       "      <th></th>\n",
       "      <th>category</th>\n",
       "      <th>video_views</th>\n",
       "    </tr>\n",
       "  </thead>\n",
       "  <tbody>\n",
       "    <tr>\n",
       "      <th>0</th>\n",
       "      <td>Music</td>\n",
       "      <td>16012853272</td>\n",
       "    </tr>\n",
       "    <tr>\n",
       "      <th>1</th>\n",
       "      <td>People &amp; Blogs</td>\n",
       "      <td>4813948048</td>\n",
       "    </tr>\n",
       "    <tr>\n",
       "      <th>2</th>\n",
       "      <td>Entertainment</td>\n",
       "      <td>1202425848</td>\n",
       "    </tr>\n",
       "    <tr>\n",
       "      <th>3</th>\n",
       "      <td>Sports</td>\n",
       "      <td>551996905</td>\n",
       "    </tr>\n",
       "    <tr>\n",
       "      <th>4</th>\n",
       "      <td>Film &amp; Animation</td>\n",
       "      <td>379368313</td>\n",
       "    </tr>\n",
       "    <tr>\n",
       "      <th>5</th>\n",
       "      <td>Comedy</td>\n",
       "      <td>350001612</td>\n",
       "    </tr>\n",
       "    <tr>\n",
       "      <th>6</th>\n",
       "      <td>Autos &amp; Vehicles</td>\n",
       "      <td>237126461</td>\n",
       "    </tr>\n",
       "    <tr>\n",
       "      <th>7</th>\n",
       "      <td>Gaming</td>\n",
       "      <td>200871851</td>\n",
       "    </tr>\n",
       "    <tr>\n",
       "      <th>8</th>\n",
       "      <td>Pets &amp; Animals</td>\n",
       "      <td>180853064</td>\n",
       "    </tr>\n",
       "    <tr>\n",
       "      <th>9</th>\n",
       "      <td>Howto &amp; Style</td>\n",
       "      <td>180677174</td>\n",
       "    </tr>\n",
       "  </tbody>\n",
       "</table>\n",
       "</div>"
      ]
     },
     "execution_count": 20,
     "metadata": {},
     "output_type": "execute_result"
    }
   ],
   "execution_count": 20
  },
  {
   "metadata": {},
   "cell_type": "markdown",
   "source": "<strong>L’année avec le plus de vidéos populaires</strong>",
   "id": "d1f6c7ece582a6d3"
  },
  {
   "metadata": {
    "ExecuteTime": {
     "end_time": "2025-02-23T01:03:09.900249Z",
     "start_time": "2025-02-23T01:03:09.874942Z"
    }
   },
   "cell_type": "code",
   "source": [
    "years_by_views = data.groupby(\"published\")[\"video_views\"].count()\n",
    "years_by_views = years_by_views.reset_index(drop=False)\n",
    "years_by_views_sorted = years_by_views.sort_values('video_views', ascending=False)\n",
    "years_by_views_sorted = years_by_views_sorted.reset_index(drop=True)\n",
    "years_by_views_sorted.head(1)"
   ],
   "id": "543a0bd02250bf36",
   "outputs": [
    {
     "data": {
      "text/plain": [
       "   published  video_views\n",
       "0       2024          288"
      ],
      "text/html": [
       "<div>\n",
       "<style scoped>\n",
       "    .dataframe tbody tr th:only-of-type {\n",
       "        vertical-align: middle;\n",
       "    }\n",
       "\n",
       "    .dataframe tbody tr th {\n",
       "        vertical-align: top;\n",
       "    }\n",
       "\n",
       "    .dataframe thead th {\n",
       "        text-align: right;\n",
       "    }\n",
       "</style>\n",
       "<table border=\"1\" class=\"dataframe\">\n",
       "  <thead>\n",
       "    <tr style=\"text-align: right;\">\n",
       "      <th></th>\n",
       "      <th>published</th>\n",
       "      <th>video_views</th>\n",
       "    </tr>\n",
       "  </thead>\n",
       "  <tbody>\n",
       "    <tr>\n",
       "      <th>0</th>\n",
       "      <td>2024</td>\n",
       "      <td>288</td>\n",
       "    </tr>\n",
       "  </tbody>\n",
       "</table>\n",
       "</div>"
      ]
     },
     "execution_count": 21,
     "metadata": {},
     "output_type": "execute_result"
    }
   ],
   "execution_count": 21
  },
  {
   "metadata": {},
   "cell_type": "markdown",
   "source": "<strong>La corrélation entre le nombre de vues et le nombre de likes</strong>",
   "id": "3b4b443a172162b9"
  },
  {
   "metadata": {
    "ExecuteTime": {
     "end_time": "2025-02-23T01:03:10.321881Z",
     "start_time": "2025-02-23T01:03:10.305998Z"
    }
   },
   "cell_type": "code",
   "source": [
    "correlation = np.corrcoef(np.array(data['video_views']), np.array(data['likes']))\n",
    "correlation"
   ],
   "id": "192a27887bdaf5c0",
   "outputs": [
    {
     "data": {
      "text/plain": [
       "array([[1.        , 0.92787536],\n",
       "       [0.92787536, 1.        ]])"
      ]
     },
     "execution_count": 22,
     "metadata": {},
     "output_type": "execute_result"
    }
   ],
   "execution_count": 22
  },
  {
   "metadata": {},
   "cell_type": "markdown",
   "source": [
    "<em>\n",
    "    Le coéfficient de corrélation étant dans l'intervalle [0.8, 1], On peut conclure qu'il\n",
    "    existe une forte corrélation positive entre le nombre de vues et le nombre de likes\n",
    "</em>"
   ],
   "id": "f667f013e342ac5a"
  },
  {
   "metadata": {
    "ExecuteTime": {
     "end_time": "2025-02-23T01:03:10.548624Z",
     "start_time": "2025-02-23T01:03:10.535828Z"
    }
   },
   "cell_type": "code",
   "source": [
    "with open('variables.pkl', 'wb') as f:\n",
    "    pickle.dump({'data_sorted_by_views':data_sorted_by_views, 'data_sorted_by_likes':data_sorted_by_likes, 'views_by_category_sorted':views_by_category_sorted, 'years_by_views_sorted':years_by_views_sorted, 'correlation':correlation}, f)"
   ],
   "id": "545fb2d9bd8d62e6",
   "outputs": [],
   "execution_count": 23
  }
 ],
 "metadata": {
  "kernelspec": {
   "display_name": "Python 3",
   "language": "python",
   "name": "python3"
  },
  "language_info": {
   "codemirror_mode": {
    "name": "ipython",
    "version": 2
   },
   "file_extension": ".py",
   "mimetype": "text/x-python",
   "name": "python",
   "nbconvert_exporter": "python",
   "pygments_lexer": "ipython2",
   "version": "2.7.6"
  }
 },
 "nbformat": 4,
 "nbformat_minor": 5
}
