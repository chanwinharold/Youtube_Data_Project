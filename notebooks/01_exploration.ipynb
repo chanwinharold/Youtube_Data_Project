{
 "cells": [
  {
   "cell_type": "code",
   "id": "initial_id",
   "metadata": {
    "collapsed": true,
    "ExecuteTime": {
     "end_time": "2025-03-02T15:45:44.609054Z",
     "start_time": "2025-03-02T15:45:44.606346Z"
    }
   },
   "source": "import pandas as pd",
   "outputs": [],
   "execution_count": 17
  },
  {
   "metadata": {},
   "cell_type": "markdown",
   "source": "<h1>Chargement des données</h1>",
   "id": "3efd0ddc3a47184"
  },
  {
   "metadata": {
    "ExecuteTime": {
     "end_time": "2025-03-02T15:45:44.634350Z",
     "start_time": "2025-03-02T15:45:44.622821Z"
    }
   },
   "cell_type": "code",
   "source": [
    "data = pd.read_csv(\"../data/Most_popular_1000_Youtube_videos.csv\")\n",
    "data.head()"
   ],
   "id": "fb7e801b16b678d",
   "outputs": [
    {
     "data": {
      "text/plain": [
       "   rank                                              Video    Video views  \\\n",
       "0     1  Lil Nas X - Old Town Road (Official Movie) ft....     54,071,677   \n",
       "1     2  20 Tennis shots if they were not filmed, NOBOD...      3,471,237   \n",
       "2     3                 JoJo Siwa - Karma (Official Video)     34,206,747   \n",
       "3     4    David Kushner - Daylight (Official Music Video)     18,558,390   \n",
       "4     5  Wiz Khalifa - See You Again ft. Charlie Puth [...  6,547,981,039   \n",
       "\n",
       "        Likes Dislikes Category  published  \n",
       "0   3,497,955   78,799    Music       2019  \n",
       "1      19,023      859      NaN       2017  \n",
       "2     293,563      NaN    Music       2024  \n",
       "3     680,732      NaN    Music       2023  \n",
       "4  44,428,537      NaN    Music       2015  "
      ],
      "text/html": [
       "<div>\n",
       "<style scoped>\n",
       "    .dataframe tbody tr th:only-of-type {\n",
       "        vertical-align: middle;\n",
       "    }\n",
       "\n",
       "    .dataframe tbody tr th {\n",
       "        vertical-align: top;\n",
       "    }\n",
       "\n",
       "    .dataframe thead th {\n",
       "        text-align: right;\n",
       "    }\n",
       "</style>\n",
       "<table border=\"1\" class=\"dataframe\">\n",
       "  <thead>\n",
       "    <tr style=\"text-align: right;\">\n",
       "      <th></th>\n",
       "      <th>rank</th>\n",
       "      <th>Video</th>\n",
       "      <th>Video views</th>\n",
       "      <th>Likes</th>\n",
       "      <th>Dislikes</th>\n",
       "      <th>Category</th>\n",
       "      <th>published</th>\n",
       "    </tr>\n",
       "  </thead>\n",
       "  <tbody>\n",
       "    <tr>\n",
       "      <th>0</th>\n",
       "      <td>1</td>\n",
       "      <td>Lil Nas X - Old Town Road (Official Movie) ft....</td>\n",
       "      <td>54,071,677</td>\n",
       "      <td>3,497,955</td>\n",
       "      <td>78,799</td>\n",
       "      <td>Music</td>\n",
       "      <td>2019</td>\n",
       "    </tr>\n",
       "    <tr>\n",
       "      <th>1</th>\n",
       "      <td>2</td>\n",
       "      <td>20 Tennis shots if they were not filmed, NOBOD...</td>\n",
       "      <td>3,471,237</td>\n",
       "      <td>19,023</td>\n",
       "      <td>859</td>\n",
       "      <td>NaN</td>\n",
       "      <td>2017</td>\n",
       "    </tr>\n",
       "    <tr>\n",
       "      <th>2</th>\n",
       "      <td>3</td>\n",
       "      <td>JoJo Siwa - Karma (Official Video)</td>\n",
       "      <td>34,206,747</td>\n",
       "      <td>293,563</td>\n",
       "      <td>NaN</td>\n",
       "      <td>Music</td>\n",
       "      <td>2024</td>\n",
       "    </tr>\n",
       "    <tr>\n",
       "      <th>3</th>\n",
       "      <td>4</td>\n",
       "      <td>David Kushner - Daylight (Official Music Video)</td>\n",
       "      <td>18,558,390</td>\n",
       "      <td>680,732</td>\n",
       "      <td>NaN</td>\n",
       "      <td>Music</td>\n",
       "      <td>2023</td>\n",
       "    </tr>\n",
       "    <tr>\n",
       "      <th>4</th>\n",
       "      <td>5</td>\n",
       "      <td>Wiz Khalifa - See You Again ft. Charlie Puth [...</td>\n",
       "      <td>6,547,981,039</td>\n",
       "      <td>44,428,537</td>\n",
       "      <td>NaN</td>\n",
       "      <td>Music</td>\n",
       "      <td>2015</td>\n",
       "    </tr>\n",
       "  </tbody>\n",
       "</table>\n",
       "</div>"
      ]
     },
     "execution_count": 18,
     "metadata": {},
     "output_type": "execute_result"
    }
   ],
   "execution_count": 18
  },
  {
   "metadata": {
    "ExecuteTime": {
     "end_time": "2025-03-02T15:45:44.697734Z",
     "start_time": "2025-03-02T15:45:44.693356Z"
    }
   },
   "cell_type": "code",
   "source": "data.tail()",
   "id": "63ebf949ee0c12bd",
   "outputs": [
    {
     "data": {
      "text/plain": [
       "     rank                                              Video Video views  \\\n",
       "995   996  New Champ Kayn/Rhaast Leak for LOL (Moobeat cr...     847,249   \n",
       "996   997                       Ford Mustang Launch (street)   1,001,605   \n",
       "997   998                      Eminem is gay - The Interview   2,718,939   \n",
       "998   999  Yakuza OST - Baka Mitai (ばかみたい) Kiryu full ver...  52,890,986   \n",
       "999  1000                 What a Twist #memes #shorts #movie  11,637,337   \n",
       "\n",
       "       Likes Dislikes          Category  published  \n",
       "995    1,857      173    People & Blogs       2017  \n",
       "996    2,214       27  Autos & Vehicles       2008  \n",
       "997   43,492        0     Entertainment       2014  \n",
       "998  850,425        0            Gaming       2017  \n",
       "999  938,043      NaN            Gaming       2024  "
      ],
      "text/html": [
       "<div>\n",
       "<style scoped>\n",
       "    .dataframe tbody tr th:only-of-type {\n",
       "        vertical-align: middle;\n",
       "    }\n",
       "\n",
       "    .dataframe tbody tr th {\n",
       "        vertical-align: top;\n",
       "    }\n",
       "\n",
       "    .dataframe thead th {\n",
       "        text-align: right;\n",
       "    }\n",
       "</style>\n",
       "<table border=\"1\" class=\"dataframe\">\n",
       "  <thead>\n",
       "    <tr style=\"text-align: right;\">\n",
       "      <th></th>\n",
       "      <th>rank</th>\n",
       "      <th>Video</th>\n",
       "      <th>Video views</th>\n",
       "      <th>Likes</th>\n",
       "      <th>Dislikes</th>\n",
       "      <th>Category</th>\n",
       "      <th>published</th>\n",
       "    </tr>\n",
       "  </thead>\n",
       "  <tbody>\n",
       "    <tr>\n",
       "      <th>995</th>\n",
       "      <td>996</td>\n",
       "      <td>New Champ Kayn/Rhaast Leak for LOL (Moobeat cr...</td>\n",
       "      <td>847,249</td>\n",
       "      <td>1,857</td>\n",
       "      <td>173</td>\n",
       "      <td>People &amp; Blogs</td>\n",
       "      <td>2017</td>\n",
       "    </tr>\n",
       "    <tr>\n",
       "      <th>996</th>\n",
       "      <td>997</td>\n",
       "      <td>Ford Mustang Launch (street)</td>\n",
       "      <td>1,001,605</td>\n",
       "      <td>2,214</td>\n",
       "      <td>27</td>\n",
       "      <td>Autos &amp; Vehicles</td>\n",
       "      <td>2008</td>\n",
       "    </tr>\n",
       "    <tr>\n",
       "      <th>997</th>\n",
       "      <td>998</td>\n",
       "      <td>Eminem is gay - The Interview</td>\n",
       "      <td>2,718,939</td>\n",
       "      <td>43,492</td>\n",
       "      <td>0</td>\n",
       "      <td>Entertainment</td>\n",
       "      <td>2014</td>\n",
       "    </tr>\n",
       "    <tr>\n",
       "      <th>998</th>\n",
       "      <td>999</td>\n",
       "      <td>Yakuza OST - Baka Mitai (ばかみたい) Kiryu full ver...</td>\n",
       "      <td>52,890,986</td>\n",
       "      <td>850,425</td>\n",
       "      <td>0</td>\n",
       "      <td>Gaming</td>\n",
       "      <td>2017</td>\n",
       "    </tr>\n",
       "    <tr>\n",
       "      <th>999</th>\n",
       "      <td>1000</td>\n",
       "      <td>What a Twist #memes #shorts #movie</td>\n",
       "      <td>11,637,337</td>\n",
       "      <td>938,043</td>\n",
       "      <td>NaN</td>\n",
       "      <td>Gaming</td>\n",
       "      <td>2024</td>\n",
       "    </tr>\n",
       "  </tbody>\n",
       "</table>\n",
       "</div>"
      ]
     },
     "execution_count": 19,
     "metadata": {},
     "output_type": "execute_result"
    }
   ],
   "execution_count": 19
  },
  {
   "metadata": {
    "ExecuteTime": {
     "end_time": "2025-03-02T15:45:44.770822Z",
     "start_time": "2025-03-02T15:45:44.765954Z"
    }
   },
   "cell_type": "code",
   "source": "data.info()",
   "id": "932526b375d37117",
   "outputs": [
    {
     "name": "stdout",
     "output_type": "stream",
     "text": [
      "<class 'pandas.core.frame.DataFrame'>\n",
      "RangeIndex: 1000 entries, 0 to 999\n",
      "Data columns (total 7 columns):\n",
      " #   Column       Non-Null Count  Dtype \n",
      "---  ------       --------------  ----- \n",
      " 0   rank         1000 non-null   int64 \n",
      " 1   Video        1000 non-null   object\n",
      " 2   Video views  1000 non-null   object\n",
      " 3   Likes        1000 non-null   object\n",
      " 4   Dislikes     527 non-null    object\n",
      " 5   Category     982 non-null    object\n",
      " 6   published    1000 non-null   int64 \n",
      "dtypes: int64(2), object(5)\n",
      "memory usage: 54.8+ KB\n"
     ]
    }
   ],
   "execution_count": 20
  },
  {
   "metadata": {},
   "cell_type": "markdown",
   "source": "<h1>Identification des valeurs manquantes</h1>",
   "id": "32d1ad5a2a067db9"
  },
  {
   "metadata": {
    "ExecuteTime": {
     "end_time": "2025-03-02T15:45:44.816107Z",
     "start_time": "2025-03-02T15:45:44.812260Z"
    }
   },
   "cell_type": "code",
   "source": "data.isnull().sum()",
   "id": "d24f18b6de0c3f71",
   "outputs": [
    {
     "data": {
      "text/plain": [
       "rank             0\n",
       "Video            0\n",
       "Video views      0\n",
       "Likes            0\n",
       "Dislikes       473\n",
       "Category        18\n",
       "published        0\n",
       "dtype: int64"
      ]
     },
     "execution_count": 21,
     "metadata": {},
     "output_type": "execute_result"
    }
   ],
   "execution_count": 21
  },
  {
   "metadata": {},
   "cell_type": "markdown",
   "source": [
    "<p>\n",
    "    Ici, on remarque la présence de valeurs manquantes dans les colonnes Dislikes, Categories. Pour pallier ce problème, nous avons plusieurs possibilitées:\n",
    "</p>\n",
    "<ul>\n",
    "    <li>Définir une valeur par défaut pour chaque valeur manquante</li>\n",
    "    <li>Préciser de manière explicite l'absence de la valeur</li>\n",
    "    <li>Rechercher la valeur manquante et l'ajouter (fastidieux, voire impossible pour des données massive)</li>\n",
    "    <li>Supprimer les lignes avec des valeurs manquantes (Perte de données importantes)</li>\n",
    "</ul>\n",
    "<p>En gros seules les deux premières possibilités sont adaptés à notre situation</p>"
   ],
   "id": "689f3f825ea77cb1"
  },
  {
   "metadata": {},
   "cell_type": "markdown",
   "source": "<h1>Vérification des colonnes contenant des doublons</h1>",
   "id": "458898c50e6b1d6d"
  },
  {
   "metadata": {
    "ExecuteTime": {
     "end_time": "2025-03-02T15:45:44.963550Z",
     "start_time": "2025-03-02T15:45:44.960325Z"
    }
   },
   "cell_type": "code",
   "source": "data.columns",
   "id": "d460cda01ba3be3a",
   "outputs": [
    {
     "data": {
      "text/plain": [
       "Index(['rank', 'Video', 'Video views', 'Likes', 'Dislikes', 'Category',\n",
       "       'published'],\n",
       "      dtype='object')"
      ]
     },
     "execution_count": 22,
     "metadata": {},
     "output_type": "execute_result"
    }
   ],
   "execution_count": 22
  },
  {
   "metadata": {},
   "cell_type": "markdown",
   "source": [
    "<p>Les colonnes qui peuvent contenir des doublons sans être supprimées sont :</p>\n",
    "<ul>\n",
    "    <li>Video views</li>\n",
    "    <li>Likes</li>\n",
    "    <li>Dislikes</li>\n",
    "    <li>Category</li>\n",
    "    <li>Published</li>\n",
    "</ul>"
   ],
   "id": "2674985b8d153079"
  },
  {
   "metadata": {},
   "cell_type": "markdown",
   "source": [
    "<p>\n",
    "    Cependant, les colonnes \"rank\" et \"Video\" ne doivent pas contenir de doublons.\n",
    "    Vérifions donc cela:\n",
    "</p>"
   ],
   "id": "876532d4c62bf1d4"
  },
  {
   "metadata": {
    "ExecuteTime": {
     "end_time": "2025-03-02T15:45:45.015672Z",
     "start_time": "2025-03-02T15:45:45.010954Z"
    }
   },
   "cell_type": "code",
   "source": "data.loc[data[\"rank\"].duplicated(keep=False), ]",
   "id": "689dac39cddabffb",
   "outputs": [
    {
     "data": {
      "text/plain": [
       "Empty DataFrame\n",
       "Columns: [rank, Video, Video views, Likes, Dislikes, Category, published]\n",
       "Index: []"
      ],
      "text/html": [
       "<div>\n",
       "<style scoped>\n",
       "    .dataframe tbody tr th:only-of-type {\n",
       "        vertical-align: middle;\n",
       "    }\n",
       "\n",
       "    .dataframe tbody tr th {\n",
       "        vertical-align: top;\n",
       "    }\n",
       "\n",
       "    .dataframe thead th {\n",
       "        text-align: right;\n",
       "    }\n",
       "</style>\n",
       "<table border=\"1\" class=\"dataframe\">\n",
       "  <thead>\n",
       "    <tr style=\"text-align: right;\">\n",
       "      <th></th>\n",
       "      <th>rank</th>\n",
       "      <th>Video</th>\n",
       "      <th>Video views</th>\n",
       "      <th>Likes</th>\n",
       "      <th>Dislikes</th>\n",
       "      <th>Category</th>\n",
       "      <th>published</th>\n",
       "    </tr>\n",
       "  </thead>\n",
       "  <tbody>\n",
       "  </tbody>\n",
       "</table>\n",
       "</div>"
      ]
     },
     "execution_count": 23,
     "metadata": {},
     "output_type": "execute_result"
    }
   ],
   "execution_count": 23
  },
  {
   "metadata": {},
   "cell_type": "markdown",
   "source": [
    "<p><span style=\"text-decoration: underline; font-size: 18px;\">\n",
    "Conclusion 1:</span> Aucun doublon détecté pour la colonne \"rank\"</p>"
   ],
   "id": "99d8cf3d41bb6261"
  },
  {
   "metadata": {
    "ExecuteTime": {
     "end_time": "2025-03-02T15:45:45.097981Z",
     "start_time": "2025-03-02T15:45:45.090661Z"
    }
   },
   "cell_type": "code",
   "source": "data.loc[data[\"Video\"].duplicated(keep=False), ]",
   "id": "c4c2c5a8dc727af9",
   "outputs": [
    {
     "data": {
      "text/plain": [
       "     rank                     Video Video views    Likes Dislikes Category  \\\n",
       "17     18       MILLION DOLLAR BABY  11,894,076  226,375      NaN    Music   \n",
       "196   197                Tiryakinim   6,332,540   64,248      NaN    Music   \n",
       "205   206                Tiryakinim   8,170,818   45,890      NaN    Music   \n",
       "215   216  Bıraktığın Gibi Burdayım   1,291,926   10,366      NaN    Music   \n",
       "267   268  Bıraktığın Gibi Burdayım   1,889,571   13,340      NaN    Music   \n",
       "500   501       MILLION DOLLAR BABY     483,750   30,078      NaN    Music   \n",
       "\n",
       "     published  \n",
       "17        2024  \n",
       "196       2024  \n",
       "205       2024  \n",
       "215       2024  \n",
       "267       2024  \n",
       "500       2024  "
      ],
      "text/html": [
       "<div>\n",
       "<style scoped>\n",
       "    .dataframe tbody tr th:only-of-type {\n",
       "        vertical-align: middle;\n",
       "    }\n",
       "\n",
       "    .dataframe tbody tr th {\n",
       "        vertical-align: top;\n",
       "    }\n",
       "\n",
       "    .dataframe thead th {\n",
       "        text-align: right;\n",
       "    }\n",
       "</style>\n",
       "<table border=\"1\" class=\"dataframe\">\n",
       "  <thead>\n",
       "    <tr style=\"text-align: right;\">\n",
       "      <th></th>\n",
       "      <th>rank</th>\n",
       "      <th>Video</th>\n",
       "      <th>Video views</th>\n",
       "      <th>Likes</th>\n",
       "      <th>Dislikes</th>\n",
       "      <th>Category</th>\n",
       "      <th>published</th>\n",
       "    </tr>\n",
       "  </thead>\n",
       "  <tbody>\n",
       "    <tr>\n",
       "      <th>17</th>\n",
       "      <td>18</td>\n",
       "      <td>MILLION DOLLAR BABY</td>\n",
       "      <td>11,894,076</td>\n",
       "      <td>226,375</td>\n",
       "      <td>NaN</td>\n",
       "      <td>Music</td>\n",
       "      <td>2024</td>\n",
       "    </tr>\n",
       "    <tr>\n",
       "      <th>196</th>\n",
       "      <td>197</td>\n",
       "      <td>Tiryakinim</td>\n",
       "      <td>6,332,540</td>\n",
       "      <td>64,248</td>\n",
       "      <td>NaN</td>\n",
       "      <td>Music</td>\n",
       "      <td>2024</td>\n",
       "    </tr>\n",
       "    <tr>\n",
       "      <th>205</th>\n",
       "      <td>206</td>\n",
       "      <td>Tiryakinim</td>\n",
       "      <td>8,170,818</td>\n",
       "      <td>45,890</td>\n",
       "      <td>NaN</td>\n",
       "      <td>Music</td>\n",
       "      <td>2024</td>\n",
       "    </tr>\n",
       "    <tr>\n",
       "      <th>215</th>\n",
       "      <td>216</td>\n",
       "      <td>Bıraktığın Gibi Burdayım</td>\n",
       "      <td>1,291,926</td>\n",
       "      <td>10,366</td>\n",
       "      <td>NaN</td>\n",
       "      <td>Music</td>\n",
       "      <td>2024</td>\n",
       "    </tr>\n",
       "    <tr>\n",
       "      <th>267</th>\n",
       "      <td>268</td>\n",
       "      <td>Bıraktığın Gibi Burdayım</td>\n",
       "      <td>1,889,571</td>\n",
       "      <td>13,340</td>\n",
       "      <td>NaN</td>\n",
       "      <td>Music</td>\n",
       "      <td>2024</td>\n",
       "    </tr>\n",
       "    <tr>\n",
       "      <th>500</th>\n",
       "      <td>501</td>\n",
       "      <td>MILLION DOLLAR BABY</td>\n",
       "      <td>483,750</td>\n",
       "      <td>30,078</td>\n",
       "      <td>NaN</td>\n",
       "      <td>Music</td>\n",
       "      <td>2024</td>\n",
       "    </tr>\n",
       "  </tbody>\n",
       "</table>\n",
       "</div>"
      ]
     },
     "execution_count": 24,
     "metadata": {},
     "output_type": "execute_result"
    }
   ],
   "execution_count": 24
  },
  {
   "metadata": {},
   "cell_type": "markdown",
   "source": "<p>On remarque d'après le tableau précédent, trois doublons dans la colonne \"Video\".</p>",
   "id": "b586e2a1ac7b7d0d"
  },
  {
   "metadata": {},
   "cell_type": "markdown",
   "source": [
    "<p>\n",
    "    On voit que les lignes contenant ces doublons ont des\n",
    "    valeurs différentes pour les colonnes 'Video' et 'Likes'. Ainsi On a deux hypothèses:\n",
    "</p>\n",
    "<ol>\n",
    "    <li>Il y a des erreurs de saisie au niveau de ces lignes</li>\n",
    "    <li>Les données ont été enregistrées à des dates différentes</li>\n",
    "</ol>\n",
    "<span style=\"text-decoration: underline; font-size: 18px;\">\n",
    "Conclusion 2:</span>\n",
    "<p>\n",
    "    La première hypothèse est invalide puisque nous constatons des différences\n",
    "    considérables (ce qui ne serait pas le cas s'il s'agissait de simples erreurs de saisie)\n",
    "     entre les doublons\n",
    "</p>\n",
    "<p>\n",
    "    On retiendra alors la seconde hypothèse et dans ce cas il faudra retenir uniquement les\n",
    "    lignes avec les infos les plus récentes. Il s'agit donc de ceux avec le plus de Video\n",
    "    views\n",
    "</p>"
   ],
   "id": "99944782a9d822a4"
  }
 ],
 "metadata": {
  "kernelspec": {
   "display_name": "Python 3",
   "language": "python",
   "name": "python3"
  },
  "language_info": {
   "codemirror_mode": {
    "name": "ipython",
    "version": 2
   },
   "file_extension": ".py",
   "mimetype": "text/x-python",
   "name": "python",
   "nbconvert_exporter": "python",
   "pygments_lexer": "ipython2",
   "version": "2.7.6"
  }
 },
 "nbformat": 4,
 "nbformat_minor": 5
}
