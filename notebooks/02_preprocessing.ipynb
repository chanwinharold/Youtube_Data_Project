{
 "cells": [
  {
   "cell_type": "code",
   "id": "initial_id",
   "metadata": {
    "collapsed": true,
    "ExecuteTime": {
     "end_time": "2025-03-02T15:46:22.788827Z",
     "start_time": "2025-03-02T15:46:22.772307Z"
    }
   },
   "source": [
    "import numpy as np\n",
    "import pandas as pd\n",
    "\n",
    "data = pd.read_csv('../data/Most_popular_1000_Youtube_videos.csv')\n",
    "data.head()"
   ],
   "outputs": [
    {
     "data": {
      "text/plain": [
       "   rank                                              Video    Video views  \\\n",
       "0     1  Lil Nas X - Old Town Road (Official Movie) ft....     54,071,677   \n",
       "1     2  20 Tennis shots if they were not filmed, NOBOD...      3,471,237   \n",
       "2     3                 JoJo Siwa - Karma (Official Video)     34,206,747   \n",
       "3     4    David Kushner - Daylight (Official Music Video)     18,558,390   \n",
       "4     5  Wiz Khalifa - See You Again ft. Charlie Puth [...  6,547,981,039   \n",
       "\n",
       "        Likes Dislikes Category  published  \n",
       "0   3,497,955   78,799    Music       2019  \n",
       "1      19,023      859      NaN       2017  \n",
       "2     293,563      NaN    Music       2024  \n",
       "3     680,732      NaN    Music       2023  \n",
       "4  44,428,537      NaN    Music       2015  "
      ],
      "text/html": [
       "<div>\n",
       "<style scoped>\n",
       "    .dataframe tbody tr th:only-of-type {\n",
       "        vertical-align: middle;\n",
       "    }\n",
       "\n",
       "    .dataframe tbody tr th {\n",
       "        vertical-align: top;\n",
       "    }\n",
       "\n",
       "    .dataframe thead th {\n",
       "        text-align: right;\n",
       "    }\n",
       "</style>\n",
       "<table border=\"1\" class=\"dataframe\">\n",
       "  <thead>\n",
       "    <tr style=\"text-align: right;\">\n",
       "      <th></th>\n",
       "      <th>rank</th>\n",
       "      <th>Video</th>\n",
       "      <th>Video views</th>\n",
       "      <th>Likes</th>\n",
       "      <th>Dislikes</th>\n",
       "      <th>Category</th>\n",
       "      <th>published</th>\n",
       "    </tr>\n",
       "  </thead>\n",
       "  <tbody>\n",
       "    <tr>\n",
       "      <th>0</th>\n",
       "      <td>1</td>\n",
       "      <td>Lil Nas X - Old Town Road (Official Movie) ft....</td>\n",
       "      <td>54,071,677</td>\n",
       "      <td>3,497,955</td>\n",
       "      <td>78,799</td>\n",
       "      <td>Music</td>\n",
       "      <td>2019</td>\n",
       "    </tr>\n",
       "    <tr>\n",
       "      <th>1</th>\n",
       "      <td>2</td>\n",
       "      <td>20 Tennis shots if they were not filmed, NOBOD...</td>\n",
       "      <td>3,471,237</td>\n",
       "      <td>19,023</td>\n",
       "      <td>859</td>\n",
       "      <td>NaN</td>\n",
       "      <td>2017</td>\n",
       "    </tr>\n",
       "    <tr>\n",
       "      <th>2</th>\n",
       "      <td>3</td>\n",
       "      <td>JoJo Siwa - Karma (Official Video)</td>\n",
       "      <td>34,206,747</td>\n",
       "      <td>293,563</td>\n",
       "      <td>NaN</td>\n",
       "      <td>Music</td>\n",
       "      <td>2024</td>\n",
       "    </tr>\n",
       "    <tr>\n",
       "      <th>3</th>\n",
       "      <td>4</td>\n",
       "      <td>David Kushner - Daylight (Official Music Video)</td>\n",
       "      <td>18,558,390</td>\n",
       "      <td>680,732</td>\n",
       "      <td>NaN</td>\n",
       "      <td>Music</td>\n",
       "      <td>2023</td>\n",
       "    </tr>\n",
       "    <tr>\n",
       "      <th>4</th>\n",
       "      <td>5</td>\n",
       "      <td>Wiz Khalifa - See You Again ft. Charlie Puth [...</td>\n",
       "      <td>6,547,981,039</td>\n",
       "      <td>44,428,537</td>\n",
       "      <td>NaN</td>\n",
       "      <td>Music</td>\n",
       "      <td>2015</td>\n",
       "    </tr>\n",
       "  </tbody>\n",
       "</table>\n",
       "</div>"
      ]
     },
     "execution_count": 2,
     "metadata": {},
     "output_type": "execute_result"
    }
   ],
   "execution_count": 2
  },
  {
   "metadata": {},
   "cell_type": "markdown",
   "source": "### Standardisation des noms de colonnes",
   "id": "4398474f63a39953"
  },
  {
   "metadata": {
    "ExecuteTime": {
     "end_time": "2025-03-02T15:46:22.832225Z",
     "start_time": "2025-03-02T15:46:22.825575Z"
    }
   },
   "cell_type": "code",
   "source": [
    "def standardisation(nom_colonne):\n",
    "    nom_colonne = str.lower(nom_colonne).replace(' ', '_')\n",
    "    return str(nom_colonne)\n",
    "\n",
    "for column in data.columns:\n",
    "    data.rename(columns={\n",
    "        column:standardisation(column)\n",
    "    }, inplace=True)\n",
    "data"
   ],
   "id": "dc91c7b26f684a0e",
   "outputs": [
    {
     "data": {
      "text/plain": [
       "     rank                                              video    video_views  \\\n",
       "0       1  Lil Nas X - Old Town Road (Official Movie) ft....     54,071,677   \n",
       "1       2  20 Tennis shots if they were not filmed, NOBOD...      3,471,237   \n",
       "2       3                 JoJo Siwa - Karma (Official Video)     34,206,747   \n",
       "3       4    David Kushner - Daylight (Official Music Video)     18,558,390   \n",
       "4       5  Wiz Khalifa - See You Again ft. Charlie Puth [...  6,547,981,039   \n",
       "..    ...                                                ...            ...   \n",
       "995   996  New Champ Kayn/Rhaast Leak for LOL (Moobeat cr...        847,249   \n",
       "996   997                       Ford Mustang Launch (street)      1,001,605   \n",
       "997   998                      Eminem is gay - The Interview      2,718,939   \n",
       "998   999  Yakuza OST - Baka Mitai (ばかみたい) Kiryu full ver...     52,890,986   \n",
       "999  1000                 What a Twist #memes #shorts #movie     11,637,337   \n",
       "\n",
       "          likes dislikes          category  published  \n",
       "0     3,497,955   78,799             Music       2019  \n",
       "1        19,023      859               NaN       2017  \n",
       "2       293,563      NaN             Music       2024  \n",
       "3       680,732      NaN             Music       2023  \n",
       "4    44,428,537      NaN             Music       2015  \n",
       "..          ...      ...               ...        ...  \n",
       "995       1,857      173    People & Blogs       2017  \n",
       "996       2,214       27  Autos & Vehicles       2008  \n",
       "997      43,492        0     Entertainment       2014  \n",
       "998     850,425        0            Gaming       2017  \n",
       "999     938,043      NaN            Gaming       2024  \n",
       "\n",
       "[1000 rows x 7 columns]"
      ],
      "text/html": [
       "<div>\n",
       "<style scoped>\n",
       "    .dataframe tbody tr th:only-of-type {\n",
       "        vertical-align: middle;\n",
       "    }\n",
       "\n",
       "    .dataframe tbody tr th {\n",
       "        vertical-align: top;\n",
       "    }\n",
       "\n",
       "    .dataframe thead th {\n",
       "        text-align: right;\n",
       "    }\n",
       "</style>\n",
       "<table border=\"1\" class=\"dataframe\">\n",
       "  <thead>\n",
       "    <tr style=\"text-align: right;\">\n",
       "      <th></th>\n",
       "      <th>rank</th>\n",
       "      <th>video</th>\n",
       "      <th>video_views</th>\n",
       "      <th>likes</th>\n",
       "      <th>dislikes</th>\n",
       "      <th>category</th>\n",
       "      <th>published</th>\n",
       "    </tr>\n",
       "  </thead>\n",
       "  <tbody>\n",
       "    <tr>\n",
       "      <th>0</th>\n",
       "      <td>1</td>\n",
       "      <td>Lil Nas X - Old Town Road (Official Movie) ft....</td>\n",
       "      <td>54,071,677</td>\n",
       "      <td>3,497,955</td>\n",
       "      <td>78,799</td>\n",
       "      <td>Music</td>\n",
       "      <td>2019</td>\n",
       "    </tr>\n",
       "    <tr>\n",
       "      <th>1</th>\n",
       "      <td>2</td>\n",
       "      <td>20 Tennis shots if they were not filmed, NOBOD...</td>\n",
       "      <td>3,471,237</td>\n",
       "      <td>19,023</td>\n",
       "      <td>859</td>\n",
       "      <td>NaN</td>\n",
       "      <td>2017</td>\n",
       "    </tr>\n",
       "    <tr>\n",
       "      <th>2</th>\n",
       "      <td>3</td>\n",
       "      <td>JoJo Siwa - Karma (Official Video)</td>\n",
       "      <td>34,206,747</td>\n",
       "      <td>293,563</td>\n",
       "      <td>NaN</td>\n",
       "      <td>Music</td>\n",
       "      <td>2024</td>\n",
       "    </tr>\n",
       "    <tr>\n",
       "      <th>3</th>\n",
       "      <td>4</td>\n",
       "      <td>David Kushner - Daylight (Official Music Video)</td>\n",
       "      <td>18,558,390</td>\n",
       "      <td>680,732</td>\n",
       "      <td>NaN</td>\n",
       "      <td>Music</td>\n",
       "      <td>2023</td>\n",
       "    </tr>\n",
       "    <tr>\n",
       "      <th>4</th>\n",
       "      <td>5</td>\n",
       "      <td>Wiz Khalifa - See You Again ft. Charlie Puth [...</td>\n",
       "      <td>6,547,981,039</td>\n",
       "      <td>44,428,537</td>\n",
       "      <td>NaN</td>\n",
       "      <td>Music</td>\n",
       "      <td>2015</td>\n",
       "    </tr>\n",
       "    <tr>\n",
       "      <th>...</th>\n",
       "      <td>...</td>\n",
       "      <td>...</td>\n",
       "      <td>...</td>\n",
       "      <td>...</td>\n",
       "      <td>...</td>\n",
       "      <td>...</td>\n",
       "      <td>...</td>\n",
       "    </tr>\n",
       "    <tr>\n",
       "      <th>995</th>\n",
       "      <td>996</td>\n",
       "      <td>New Champ Kayn/Rhaast Leak for LOL (Moobeat cr...</td>\n",
       "      <td>847,249</td>\n",
       "      <td>1,857</td>\n",
       "      <td>173</td>\n",
       "      <td>People &amp; Blogs</td>\n",
       "      <td>2017</td>\n",
       "    </tr>\n",
       "    <tr>\n",
       "      <th>996</th>\n",
       "      <td>997</td>\n",
       "      <td>Ford Mustang Launch (street)</td>\n",
       "      <td>1,001,605</td>\n",
       "      <td>2,214</td>\n",
       "      <td>27</td>\n",
       "      <td>Autos &amp; Vehicles</td>\n",
       "      <td>2008</td>\n",
       "    </tr>\n",
       "    <tr>\n",
       "      <th>997</th>\n",
       "      <td>998</td>\n",
       "      <td>Eminem is gay - The Interview</td>\n",
       "      <td>2,718,939</td>\n",
       "      <td>43,492</td>\n",
       "      <td>0</td>\n",
       "      <td>Entertainment</td>\n",
       "      <td>2014</td>\n",
       "    </tr>\n",
       "    <tr>\n",
       "      <th>998</th>\n",
       "      <td>999</td>\n",
       "      <td>Yakuza OST - Baka Mitai (ばかみたい) Kiryu full ver...</td>\n",
       "      <td>52,890,986</td>\n",
       "      <td>850,425</td>\n",
       "      <td>0</td>\n",
       "      <td>Gaming</td>\n",
       "      <td>2017</td>\n",
       "    </tr>\n",
       "    <tr>\n",
       "      <th>999</th>\n",
       "      <td>1000</td>\n",
       "      <td>What a Twist #memes #shorts #movie</td>\n",
       "      <td>11,637,337</td>\n",
       "      <td>938,043</td>\n",
       "      <td>NaN</td>\n",
       "      <td>Gaming</td>\n",
       "      <td>2024</td>\n",
       "    </tr>\n",
       "  </tbody>\n",
       "</table>\n",
       "<p>1000 rows × 7 columns</p>\n",
       "</div>"
      ]
     },
     "execution_count": 3,
     "metadata": {},
     "output_type": "execute_result"
    }
   ],
   "execution_count": 3
  },
  {
   "metadata": {},
   "cell_type": "markdown",
   "source": "### Vérification du type",
   "id": "4a9925bd418a9b2f"
  },
  {
   "metadata": {
    "ExecuteTime": {
     "end_time": "2025-03-02T15:46:22.880048Z",
     "start_time": "2025-03-02T15:46:22.875218Z"
    }
   },
   "cell_type": "code",
   "source": "data.dtypes",
   "id": "3a81fe90c489aa23",
   "outputs": [
    {
     "data": {
      "text/plain": [
       "rank            int64\n",
       "video          object\n",
       "video_views    object\n",
       "likes          object\n",
       "dislikes       object\n",
       "category       object\n",
       "published       int64\n",
       "dtype: object"
      ]
     },
     "execution_count": 4,
     "metadata": {},
     "output_type": "execute_result"
    }
   ],
   "execution_count": 4
  },
  {
   "metadata": {
    "ExecuteTime": {
     "end_time": "2025-03-02T15:46:22.957634Z",
     "start_time": "2025-03-02T15:46:22.945535Z"
    }
   },
   "cell_type": "code",
   "source": [
    "columnList = ['video_views', 'likes', 'dislikes']\n",
    "\n",
    "for column in columnList:\n",
    "    data[column] = pd.to_numeric(data[column].str.replace(',', ''), errors='coerce')\n",
    "\n",
    "data[columnList]"
   ],
   "id": "328dbe8eb1e62db8",
   "outputs": [
    {
     "data": {
      "text/plain": [
       "     video_views     likes  dislikes\n",
       "0       54071677   3497955   78799.0\n",
       "1        3471237     19023     859.0\n",
       "2       34206747    293563       NaN\n",
       "3       18558390    680732       NaN\n",
       "4     6547981039  44428537       NaN\n",
       "..           ...       ...       ...\n",
       "995       847249      1857     173.0\n",
       "996      1001605      2214      27.0\n",
       "997      2718939     43492       0.0\n",
       "998     52890986    850425       0.0\n",
       "999     11637337    938043       NaN\n",
       "\n",
       "[1000 rows x 3 columns]"
      ],
      "text/html": [
       "<div>\n",
       "<style scoped>\n",
       "    .dataframe tbody tr th:only-of-type {\n",
       "        vertical-align: middle;\n",
       "    }\n",
       "\n",
       "    .dataframe tbody tr th {\n",
       "        vertical-align: top;\n",
       "    }\n",
       "\n",
       "    .dataframe thead th {\n",
       "        text-align: right;\n",
       "    }\n",
       "</style>\n",
       "<table border=\"1\" class=\"dataframe\">\n",
       "  <thead>\n",
       "    <tr style=\"text-align: right;\">\n",
       "      <th></th>\n",
       "      <th>video_views</th>\n",
       "      <th>likes</th>\n",
       "      <th>dislikes</th>\n",
       "    </tr>\n",
       "  </thead>\n",
       "  <tbody>\n",
       "    <tr>\n",
       "      <th>0</th>\n",
       "      <td>54071677</td>\n",
       "      <td>3497955</td>\n",
       "      <td>78799.0</td>\n",
       "    </tr>\n",
       "    <tr>\n",
       "      <th>1</th>\n",
       "      <td>3471237</td>\n",
       "      <td>19023</td>\n",
       "      <td>859.0</td>\n",
       "    </tr>\n",
       "    <tr>\n",
       "      <th>2</th>\n",
       "      <td>34206747</td>\n",
       "      <td>293563</td>\n",
       "      <td>NaN</td>\n",
       "    </tr>\n",
       "    <tr>\n",
       "      <th>3</th>\n",
       "      <td>18558390</td>\n",
       "      <td>680732</td>\n",
       "      <td>NaN</td>\n",
       "    </tr>\n",
       "    <tr>\n",
       "      <th>4</th>\n",
       "      <td>6547981039</td>\n",
       "      <td>44428537</td>\n",
       "      <td>NaN</td>\n",
       "    </tr>\n",
       "    <tr>\n",
       "      <th>...</th>\n",
       "      <td>...</td>\n",
       "      <td>...</td>\n",
       "      <td>...</td>\n",
       "    </tr>\n",
       "    <tr>\n",
       "      <th>995</th>\n",
       "      <td>847249</td>\n",
       "      <td>1857</td>\n",
       "      <td>173.0</td>\n",
       "    </tr>\n",
       "    <tr>\n",
       "      <th>996</th>\n",
       "      <td>1001605</td>\n",
       "      <td>2214</td>\n",
       "      <td>27.0</td>\n",
       "    </tr>\n",
       "    <tr>\n",
       "      <th>997</th>\n",
       "      <td>2718939</td>\n",
       "      <td>43492</td>\n",
       "      <td>0.0</td>\n",
       "    </tr>\n",
       "    <tr>\n",
       "      <th>998</th>\n",
       "      <td>52890986</td>\n",
       "      <td>850425</td>\n",
       "      <td>0.0</td>\n",
       "    </tr>\n",
       "    <tr>\n",
       "      <th>999</th>\n",
       "      <td>11637337</td>\n",
       "      <td>938043</td>\n",
       "      <td>NaN</td>\n",
       "    </tr>\n",
       "  </tbody>\n",
       "</table>\n",
       "<p>1000 rows × 3 columns</p>\n",
       "</div>"
      ]
     },
     "execution_count": 5,
     "metadata": {},
     "output_type": "execute_result"
    }
   ],
   "execution_count": 5
  },
  {
   "metadata": {
    "ExecuteTime": {
     "end_time": "2025-03-02T15:46:23.111253Z",
     "start_time": "2025-03-02T15:46:23.106854Z"
    }
   },
   "cell_type": "code",
   "source": "data.dtypes",
   "id": "45e0d89f49161c4c",
   "outputs": [
    {
     "data": {
      "text/plain": [
       "rank             int64\n",
       "video           object\n",
       "video_views      int64\n",
       "likes            int64\n",
       "dislikes       float64\n",
       "category        object\n",
       "published        int64\n",
       "dtype: object"
      ]
     },
     "execution_count": 6,
     "metadata": {},
     "output_type": "execute_result"
    }
   ],
   "execution_count": 6
  },
  {
   "metadata": {},
   "cell_type": "markdown",
   "source": "### Vérification des Outliers",
   "id": "3fead2e802ad2929"
  },
  {
   "metadata": {
    "ExecuteTime": {
     "end_time": "2025-03-02T15:46:23.213848Z",
     "start_time": "2025-03-02T15:46:23.201176Z"
    }
   },
   "cell_type": "code",
   "source": "data.describe()",
   "id": "a78fdc65535c2e46",
   "outputs": [
    {
     "data": {
      "text/plain": [
       "              rank   video_views         likes       dislikes    published\n",
       "count  1000.000000  1.000000e+03  1.000000e+03     527.000000  1000.000000\n",
       "mean    500.500000  2.453435e+07  3.685451e+05    2322.324478  2019.100000\n",
       "std     288.819436  2.512570e+08  1.629418e+06    9653.170360     5.384328\n",
       "min       1.000000  4.493900e+04  4.330000e+02       0.000000  2005.000000\n",
       "25%     250.750000  9.815690e+05  9.427250e+03     200.000000  2017.000000\n",
       "50%     500.500000  2.341652e+06  3.026200e+04     477.000000  2021.000000\n",
       "75%     750.250000  1.162638e+07  1.649858e+05    1469.000000  2024.000000\n",
       "max    1000.000000  6.547981e+09  4.442854e+07  178042.000000  2025.000000"
      ],
      "text/html": [
       "<div>\n",
       "<style scoped>\n",
       "    .dataframe tbody tr th:only-of-type {\n",
       "        vertical-align: middle;\n",
       "    }\n",
       "\n",
       "    .dataframe tbody tr th {\n",
       "        vertical-align: top;\n",
       "    }\n",
       "\n",
       "    .dataframe thead th {\n",
       "        text-align: right;\n",
       "    }\n",
       "</style>\n",
       "<table border=\"1\" class=\"dataframe\">\n",
       "  <thead>\n",
       "    <tr style=\"text-align: right;\">\n",
       "      <th></th>\n",
       "      <th>rank</th>\n",
       "      <th>video_views</th>\n",
       "      <th>likes</th>\n",
       "      <th>dislikes</th>\n",
       "      <th>published</th>\n",
       "    </tr>\n",
       "  </thead>\n",
       "  <tbody>\n",
       "    <tr>\n",
       "      <th>count</th>\n",
       "      <td>1000.000000</td>\n",
       "      <td>1.000000e+03</td>\n",
       "      <td>1.000000e+03</td>\n",
       "      <td>527.000000</td>\n",
       "      <td>1000.000000</td>\n",
       "    </tr>\n",
       "    <tr>\n",
       "      <th>mean</th>\n",
       "      <td>500.500000</td>\n",
       "      <td>2.453435e+07</td>\n",
       "      <td>3.685451e+05</td>\n",
       "      <td>2322.324478</td>\n",
       "      <td>2019.100000</td>\n",
       "    </tr>\n",
       "    <tr>\n",
       "      <th>std</th>\n",
       "      <td>288.819436</td>\n",
       "      <td>2.512570e+08</td>\n",
       "      <td>1.629418e+06</td>\n",
       "      <td>9653.170360</td>\n",
       "      <td>5.384328</td>\n",
       "    </tr>\n",
       "    <tr>\n",
       "      <th>min</th>\n",
       "      <td>1.000000</td>\n",
       "      <td>4.493900e+04</td>\n",
       "      <td>4.330000e+02</td>\n",
       "      <td>0.000000</td>\n",
       "      <td>2005.000000</td>\n",
       "    </tr>\n",
       "    <tr>\n",
       "      <th>25%</th>\n",
       "      <td>250.750000</td>\n",
       "      <td>9.815690e+05</td>\n",
       "      <td>9.427250e+03</td>\n",
       "      <td>200.000000</td>\n",
       "      <td>2017.000000</td>\n",
       "    </tr>\n",
       "    <tr>\n",
       "      <th>50%</th>\n",
       "      <td>500.500000</td>\n",
       "      <td>2.341652e+06</td>\n",
       "      <td>3.026200e+04</td>\n",
       "      <td>477.000000</td>\n",
       "      <td>2021.000000</td>\n",
       "    </tr>\n",
       "    <tr>\n",
       "      <th>75%</th>\n",
       "      <td>750.250000</td>\n",
       "      <td>1.162638e+07</td>\n",
       "      <td>1.649858e+05</td>\n",
       "      <td>1469.000000</td>\n",
       "      <td>2024.000000</td>\n",
       "    </tr>\n",
       "    <tr>\n",
       "      <th>max</th>\n",
       "      <td>1000.000000</td>\n",
       "      <td>6.547981e+09</td>\n",
       "      <td>4.442854e+07</td>\n",
       "      <td>178042.000000</td>\n",
       "      <td>2025.000000</td>\n",
       "    </tr>\n",
       "  </tbody>\n",
       "</table>\n",
       "</div>"
      ]
     },
     "execution_count": 7,
     "metadata": {},
     "output_type": "execute_result"
    }
   ],
   "execution_count": 7
  },
  {
   "metadata": {},
   "cell_type": "markdown",
   "source": "Aucun outlier détecté",
   "id": "bfb937610673ec6d"
  },
  {
   "metadata": {},
   "cell_type": "markdown",
   "source": "### Vérification des Doublons",
   "id": "2094e549ec6e9b08"
  },
  {
   "metadata": {
    "ExecuteTime": {
     "end_time": "2025-03-02T15:46:23.326802Z",
     "start_time": "2025-03-02T15:46:23.314371Z"
    }
   },
   "cell_type": "code",
   "source": "data.loc[data['video'].duplicated(keep=False), ]",
   "id": "60d75d2e0066c73c",
   "outputs": [
    {
     "data": {
      "text/plain": [
       "     rank                     video  video_views   likes  dislikes category  \\\n",
       "17     18       MILLION DOLLAR BABY     11894076  226375       NaN    Music   \n",
       "196   197                Tiryakinim      6332540   64248       NaN    Music   \n",
       "205   206                Tiryakinim      8170818   45890       NaN    Music   \n",
       "215   216  Bıraktığın Gibi Burdayım      1291926   10366       NaN    Music   \n",
       "267   268  Bıraktığın Gibi Burdayım      1889571   13340       NaN    Music   \n",
       "500   501       MILLION DOLLAR BABY       483750   30078       NaN    Music   \n",
       "\n",
       "     published  \n",
       "17        2024  \n",
       "196       2024  \n",
       "205       2024  \n",
       "215       2024  \n",
       "267       2024  \n",
       "500       2024  "
      ],
      "text/html": [
       "<div>\n",
       "<style scoped>\n",
       "    .dataframe tbody tr th:only-of-type {\n",
       "        vertical-align: middle;\n",
       "    }\n",
       "\n",
       "    .dataframe tbody tr th {\n",
       "        vertical-align: top;\n",
       "    }\n",
       "\n",
       "    .dataframe thead th {\n",
       "        text-align: right;\n",
       "    }\n",
       "</style>\n",
       "<table border=\"1\" class=\"dataframe\">\n",
       "  <thead>\n",
       "    <tr style=\"text-align: right;\">\n",
       "      <th></th>\n",
       "      <th>rank</th>\n",
       "      <th>video</th>\n",
       "      <th>video_views</th>\n",
       "      <th>likes</th>\n",
       "      <th>dislikes</th>\n",
       "      <th>category</th>\n",
       "      <th>published</th>\n",
       "    </tr>\n",
       "  </thead>\n",
       "  <tbody>\n",
       "    <tr>\n",
       "      <th>17</th>\n",
       "      <td>18</td>\n",
       "      <td>MILLION DOLLAR BABY</td>\n",
       "      <td>11894076</td>\n",
       "      <td>226375</td>\n",
       "      <td>NaN</td>\n",
       "      <td>Music</td>\n",
       "      <td>2024</td>\n",
       "    </tr>\n",
       "    <tr>\n",
       "      <th>196</th>\n",
       "      <td>197</td>\n",
       "      <td>Tiryakinim</td>\n",
       "      <td>6332540</td>\n",
       "      <td>64248</td>\n",
       "      <td>NaN</td>\n",
       "      <td>Music</td>\n",
       "      <td>2024</td>\n",
       "    </tr>\n",
       "    <tr>\n",
       "      <th>205</th>\n",
       "      <td>206</td>\n",
       "      <td>Tiryakinim</td>\n",
       "      <td>8170818</td>\n",
       "      <td>45890</td>\n",
       "      <td>NaN</td>\n",
       "      <td>Music</td>\n",
       "      <td>2024</td>\n",
       "    </tr>\n",
       "    <tr>\n",
       "      <th>215</th>\n",
       "      <td>216</td>\n",
       "      <td>Bıraktığın Gibi Burdayım</td>\n",
       "      <td>1291926</td>\n",
       "      <td>10366</td>\n",
       "      <td>NaN</td>\n",
       "      <td>Music</td>\n",
       "      <td>2024</td>\n",
       "    </tr>\n",
       "    <tr>\n",
       "      <th>267</th>\n",
       "      <td>268</td>\n",
       "      <td>Bıraktığın Gibi Burdayım</td>\n",
       "      <td>1889571</td>\n",
       "      <td>13340</td>\n",
       "      <td>NaN</td>\n",
       "      <td>Music</td>\n",
       "      <td>2024</td>\n",
       "    </tr>\n",
       "    <tr>\n",
       "      <th>500</th>\n",
       "      <td>501</td>\n",
       "      <td>MILLION DOLLAR BABY</td>\n",
       "      <td>483750</td>\n",
       "      <td>30078</td>\n",
       "      <td>NaN</td>\n",
       "      <td>Music</td>\n",
       "      <td>2024</td>\n",
       "    </tr>\n",
       "  </tbody>\n",
       "</table>\n",
       "</div>"
      ]
     },
     "execution_count": 8,
     "metadata": {},
     "output_type": "execute_result"
    }
   ],
   "execution_count": 8
  },
  {
   "metadata": {
    "ExecuteTime": {
     "end_time": "2025-03-02T15:46:23.404097Z",
     "start_time": "2025-03-02T15:46:23.399863Z"
    }
   },
   "cell_type": "code",
   "source": "data.drop_duplicates(subset=['video'], ignore_index=True, inplace=True)",
   "id": "fa20e90f7dee9bc1",
   "outputs": [],
   "execution_count": 9
  },
  {
   "metadata": {
    "ExecuteTime": {
     "end_time": "2025-03-02T15:46:23.542972Z",
     "start_time": "2025-03-02T15:46:23.538159Z"
    }
   },
   "cell_type": "code",
   "source": "data.loc[data['video'].duplicated(keep=False), ]",
   "id": "5faf359871e306ca",
   "outputs": [
    {
     "data": {
      "text/plain": [
       "Empty DataFrame\n",
       "Columns: [rank, video, video_views, likes, dislikes, category, published]\n",
       "Index: []"
      ],
      "text/html": [
       "<div>\n",
       "<style scoped>\n",
       "    .dataframe tbody tr th:only-of-type {\n",
       "        vertical-align: middle;\n",
       "    }\n",
       "\n",
       "    .dataframe tbody tr th {\n",
       "        vertical-align: top;\n",
       "    }\n",
       "\n",
       "    .dataframe thead th {\n",
       "        text-align: right;\n",
       "    }\n",
       "</style>\n",
       "<table border=\"1\" class=\"dataframe\">\n",
       "  <thead>\n",
       "    <tr style=\"text-align: right;\">\n",
       "      <th></th>\n",
       "      <th>rank</th>\n",
       "      <th>video</th>\n",
       "      <th>video_views</th>\n",
       "      <th>likes</th>\n",
       "      <th>dislikes</th>\n",
       "      <th>category</th>\n",
       "      <th>published</th>\n",
       "    </tr>\n",
       "  </thead>\n",
       "  <tbody>\n",
       "  </tbody>\n",
       "</table>\n",
       "</div>"
      ]
     },
     "execution_count": 10,
     "metadata": {},
     "output_type": "execute_result"
    }
   ],
   "execution_count": 10
  },
  {
   "metadata": {},
   "cell_type": "markdown",
   "source": "### Valeurs manquantes",
   "id": "e7b722f9768528ae"
  },
  {
   "metadata": {
    "ExecuteTime": {
     "end_time": "2025-03-02T15:46:23.642754Z",
     "start_time": "2025-03-02T15:46:23.628605Z"
    }
   },
   "cell_type": "code",
   "source": "data.isnull().sum()",
   "id": "84eff333de40dd00",
   "outputs": [
    {
     "data": {
      "text/plain": [
       "rank             0\n",
       "video            0\n",
       "video_views      0\n",
       "likes            0\n",
       "dislikes       470\n",
       "category        18\n",
       "published        0\n",
       "dtype: int64"
      ]
     },
     "execution_count": 11,
     "metadata": {},
     "output_type": "execute_result"
    }
   ],
   "execution_count": 11
  },
  {
   "metadata": {
    "ExecuteTime": {
     "end_time": "2025-03-02T15:46:23.750725Z",
     "start_time": "2025-03-02T15:46:23.746379Z"
    }
   },
   "cell_type": "code",
   "source": [
    "data.loc[data['dislikes'].isnull(), 'dislikes'] = 0\n",
    "data.loc[data['category'].isnull(), 'category'] = 'Unknown'"
   ],
   "id": "b1238ce34c805781",
   "outputs": [],
   "execution_count": 12
  },
  {
   "metadata": {
    "ExecuteTime": {
     "end_time": "2025-03-02T15:46:23.883495Z",
     "start_time": "2025-03-02T15:46:23.878243Z"
    }
   },
   "cell_type": "code",
   "source": "data.isnull().sum()",
   "id": "ddd15446316c5154",
   "outputs": [
    {
     "data": {
      "text/plain": [
       "rank           0\n",
       "video          0\n",
       "video_views    0\n",
       "likes          0\n",
       "dislikes       0\n",
       "category       0\n",
       "published      0\n",
       "dtype: int64"
      ]
     },
     "execution_count": 13,
     "metadata": {},
     "output_type": "execute_result"
    }
   ],
   "execution_count": 13
  },
  {
   "metadata": {},
   "cell_type": "markdown",
   "source": "### Réinitialisation des rangs",
   "id": "d23e50c6acbebe80"
  },
  {
   "metadata": {
    "ExecuteTime": {
     "end_time": "2025-03-02T15:46:23.939463Z",
     "start_time": "2025-03-02T15:46:23.934242Z"
    }
   },
   "cell_type": "code",
   "source": "data['rank'] = np.arange(1, len(data)+1)",
   "id": "4223a73720de7174",
   "outputs": [],
   "execution_count": 14
  },
  {
   "metadata": {},
   "cell_type": "markdown",
   "source": "### Sauvegarde du DataFrame obtenu",
   "id": "3f551ebd6cee612a"
  },
  {
   "metadata": {
    "ExecuteTime": {
     "end_time": "2025-03-02T15:46:24.079556Z",
     "start_time": "2025-03-02T15:46:24.069144Z"
    }
   },
   "cell_type": "code",
   "source": "data.to_csv('../data/data_cleaned.csv', index=False)",
   "id": "899feec9c1a9252d",
   "outputs": [],
   "execution_count": 15
  }
 ],
 "metadata": {
  "kernelspec": {
   "display_name": "Python 3",
   "language": "python",
   "name": "python3"
  },
  "language_info": {
   "codemirror_mode": {
    "name": "ipython",
    "version": 2
   },
   "file_extension": ".py",
   "mimetype": "text/x-python",
   "name": "python",
   "nbconvert_exporter": "python",
   "pygments_lexer": "ipython2",
   "version": "2.7.6"
  }
 },
 "nbformat": 4,
 "nbformat_minor": 5
}
